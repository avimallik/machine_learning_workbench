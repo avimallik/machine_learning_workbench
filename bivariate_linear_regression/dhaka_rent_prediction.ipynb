{
 "cells": [
  {
   "cell_type": "code",
   "execution_count": 14,
   "id": "d9ec5d81",
   "metadata": {},
   "outputs": [
    {
     "data": {
      "text/html": [
       "<div>\n",
       "<style scoped>\n",
       "    .dataframe tbody tr th:only-of-type {\n",
       "        vertical-align: middle;\n",
       "    }\n",
       "\n",
       "    .dataframe tbody tr th {\n",
       "        vertical-align: top;\n",
       "    }\n",
       "\n",
       "    .dataframe thead th {\n",
       "        text-align: right;\n",
       "    }\n",
       "</style>\n",
       "<table border=\"1\" class=\"dataframe\">\n",
       "  <thead>\n",
       "    <tr style=\"text-align: right;\">\n",
       "      <th></th>\n",
       "      <th>area</th>\n",
       "      <th>rent</th>\n",
       "    </tr>\n",
       "  </thead>\n",
       "  <tbody>\n",
       "    <tr>\n",
       "      <th>0</th>\n",
       "      <td>2000</td>\n",
       "      <td>31500</td>\n",
       "    </tr>\n",
       "    <tr>\n",
       "      <th>1</th>\n",
       "      <td>2100</td>\n",
       "      <td>35000</td>\n",
       "    </tr>\n",
       "    <tr>\n",
       "      <th>2</th>\n",
       "      <td>2500</td>\n",
       "      <td>41050</td>\n",
       "    </tr>\n",
       "    <tr>\n",
       "      <th>3</th>\n",
       "      <td>2250</td>\n",
       "      <td>36100</td>\n",
       "    </tr>\n",
       "    <tr>\n",
       "      <th>4</th>\n",
       "      <td>3000</td>\n",
       "      <td>52100</td>\n",
       "    </tr>\n",
       "  </tbody>\n",
       "</table>\n",
       "</div>"
      ],
      "text/plain": [
       "   area   rent\n",
       "0  2000  31500\n",
       "1  2100  35000\n",
       "2  2500  41050\n",
       "3  2250  36100\n",
       "4  3000  52100"
      ]
     },
     "execution_count": 14,
     "metadata": {},
     "output_type": "execute_result"
    }
   ],
   "source": [
    "import numpy as np\n",
    "import pandas as pd\n",
    "import matplotlib.pyplot as plt\n",
    "\n",
    "df = pd.read_csv(\"datasets/dataset_dhaka_rent.csv\")\n",
    "df.shape\n",
    "df.head()"
   ]
  },
  {
   "cell_type": "code",
   "execution_count": 15,
   "id": "171c2563",
   "metadata": {},
   "outputs": [
    {
     "data": {
      "text/plain": [
       "0    2000\n",
       "1    2100\n",
       "2    2500\n",
       "3    2250\n",
       "4    3000\n",
       "Name: area, dtype: int64"
      ]
     },
     "execution_count": 15,
     "metadata": {},
     "output_type": "execute_result"
    }
   ],
   "source": [
    "xArea = df[\"area\"]\n",
    "xArea.head()"
   ]
  },
  {
   "cell_type": "code",
   "execution_count": 16,
   "id": "14b79d09",
   "metadata": {},
   "outputs": [
    {
     "data": {
      "text/plain": [
       "0    31500\n",
       "1    35000\n",
       "2    41050\n",
       "3    36100\n",
       "4    52100\n",
       "Name: rent, dtype: int64"
      ]
     },
     "execution_count": 16,
     "metadata": {},
     "output_type": "execute_result"
    }
   ],
   "source": [
    "yRent = df[\"rent\"]\n",
    "yRent.head()"
   ]
  },
  {
   "cell_type": "code",
   "execution_count": 17,
   "id": "304f6806",
   "metadata": {},
   "outputs": [
    {
     "name": "stdout",
     "output_type": "stream",
     "text": [
      "<class 'pandas.core.frame.DataFrame'>\n",
      "RangeIndex: 60 entries, 0 to 59\n",
      "Data columns (total 2 columns):\n",
      " #   Column  Non-Null Count  Dtype\n",
      "---  ------  --------------  -----\n",
      " 0   area    60 non-null     int64\n",
      " 1   rent    60 non-null     int64\n",
      "dtypes: int64(2)\n",
      "memory usage: 1.1 KB\n"
     ]
    }
   ],
   "source": [
    "df.isnull().sum()\n",
    "df.info()"
   ]
  },
  {
   "cell_type": "code",
   "execution_count": 18,
   "id": "2a93fabb",
   "metadata": {},
   "outputs": [
    {
     "data": {
      "image/png": "[encoded data removed]",
      "text/plain": [
       "<Figure size 640x480 with 1 Axes>"
      ]
     },
     "metadata": {},
     "output_type": "display_data"
    }
   ],
   "source": [
    "def rentPlot():\n",
    "    plt_x = np.array(xArea)\n",
    "    plt_y = np.array(yRent)\n",
    "    plt.scatter(df[\"area\"], df[\"rent\"],)\n",
    "    plt.xlabel(\"Area\")\n",
    "    plt.ylabel(\"Rent\")\n",
    "\n",
    "rentPlot()"
   ]
  },
  {
   "cell_type": "markdown",
   "id": "d217d95e",
   "metadata": {},
   "source": [
    "# Correlation of Area and Rent"
   ]
  },
  {
   "cell_type": "code",
   "execution_count": 19,
   "id": "644501fe",
   "metadata": {},
   "outputs": [
    {
     "data": {
      "text/html": [
       "<div>\n",
       "<style scoped>\n",
       "    .dataframe tbody tr th:only-of-type {\n",
       "        vertical-align: middle;\n",
       "    }\n",
       "\n",
       "    .dataframe tbody tr th {\n",
       "        vertical-align: top;\n",
       "    }\n",
       "\n",
       "    .dataframe thead th {\n",
       "        text-align: right;\n",
       "    }\n",
       "</style>\n",
       "<table border=\"1\" class=\"dataframe\">\n",
       "  <thead>\n",
       "    <tr style=\"text-align: right;\">\n",
       "      <th></th>\n",
       "      <th>area</th>\n",
       "      <th>rent</th>\n",
       "    </tr>\n",
       "  </thead>\n",
       "  <tbody>\n",
       "    <tr>\n",
       "      <th>area</th>\n",
       "      <td>1.000000</td>\n",
       "      <td>0.974807</td>\n",
       "    </tr>\n",
       "    <tr>\n",
       "      <th>rent</th>\n",
       "      <td>0.974807</td>\n",
       "      <td>1.000000</td>\n",
       "    </tr>\n",
       "  </tbody>\n",
       "</table>\n",
       "</div>"
      ],
      "text/plain": [
       "          area      rent\n",
       "area  1.000000  0.974807\n",
       "rent  0.974807  1.000000"
      ]
     },
     "execution_count": 19,
     "metadata": {},
     "output_type": "execute_result"
    }
   ],
   "source": [
    "df.corr()"
   ]
  },
  {
   "cell_type": "markdown",
   "id": "550af6ff",
   "metadata": {},
   "source": [
    "# Calculate m(Slope)"
   ]
  },
  {
   "cell_type": "code",
   "execution_count": 20,
   "id": "866912da",
   "metadata": {},
   "outputs": [
    {
     "name": "stdout",
     "output_type": "stream",
     "text": [
      "21.292661473611954\n"
     ]
    }
   ],
   "source": [
    "dev_xArea = xArea - xArea.mean()\n",
    "dev_yRent = yRent - yRent.mean()\n",
    "\n",
    "m = np.sum(dev_xArea*dev_yRent) / np.sum(dev_xArea**2)\n",
    "print(float(m))"
   ]
  },
  {
   "cell_type": "markdown",
   "id": "7b66decd",
   "metadata": {},
   "source": [
    "# Calculate Intercept"
   ]
  },
  {
   "cell_type": "code",
   "execution_count": 21,
   "id": "83f89307",
   "metadata": {},
   "outputs": [
    {
     "name": "stdout",
     "output_type": "stream",
     "text": [
      "-11469.7354464311\n"
     ]
    }
   ],
   "source": [
    "b = np.mean(yRent) - m*np.mean(xArea)\n",
    "print(float(b))"
   ]
  },
  {
   "cell_type": "markdown",
   "id": "e3be3b8e",
   "metadata": {},
   "source": [
    "# Prediction"
   ]
  },
  {
   "cell_type": "code",
   "execution_count": 22,
   "id": "e65d0566",
   "metadata": {},
   "outputs": [
    {
     "data": {
      "text/plain": [
       "0    2000\n",
       "1    2100\n",
       "2    2500\n",
       "3    2250\n",
       "4    3000\n",
       "Name: area, dtype: int64"
      ]
     },
     "execution_count": 22,
     "metadata": {},
     "output_type": "execute_result"
    }
   ],
   "source": [
    "xArea.head()"
   ]
  },
  {
   "cell_type": "code",
   "execution_count": 23,
   "id": "87f2821f",
   "metadata": {},
   "outputs": [
    {
     "data": {
      "text/plain": [
       "0    31500\n",
       "1    35000\n",
       "2    41050\n",
       "3    36100\n",
       "4    52100\n",
       "Name: rent, dtype: int64"
      ]
     },
     "execution_count": 23,
     "metadata": {},
     "output_type": "execute_result"
    }
   ],
   "source": [
    "yRent.head()"
   ]
  },
  {
   "cell_type": "code",
   "execution_count": 24,
   "id": "0e6095c4",
   "metadata": {},
   "outputs": [
    {
     "name": "stdout",
     "output_type": "stream",
     "text": [
      "41761.91823759879\n"
     ]
    }
   ],
   "source": [
    "yPredict = m*2500 + b\n",
    "yPredict\n",
    "print(float(yPredict))"
   ]
  },
  {
   "cell_type": "code",
   "execution_count": 33,
   "id": "1411e1df",
   "metadata": {},
   "outputs": [
    {
     "name": "stdout",
     "output_type": "stream",
     "text": [
      "[31115.58750079281, 33244.85364815401, 41761.91823759879, 36438.7528691958, 52408.24897440476, 28986.321353431616, 20469.256763986832, 27921.68827975102, 46020.45053232118, 33244.85364815401, 34309.486721834604, 33244.85364815401, 33244.85364815401, 41974.84485233491, 36438.7528691958, 54537.51512176595, 26857.05520607042, 21533.889837667426, 26857.05520607042, 46020.45053232118, 33457.780262890126, 33244.85364815401, 63054.57971121075, 14081.458321903247, 48149.71667968237, 54537.51512176595, 47085.083606001775, 26857.05520607042, 35374.1197955152, 54537.51512176595, 33244.85364815401, 33244.85364815401, 41761.91823759879, 36438.7528691958, 52408.24897440476, 28986.321353431616, 20469.256763986832, 27921.68827975102, 46020.45053232118, 33244.85364815401, 34309.486721834604, 33244.85364815401, 33244.85364815401, 41974.84485233491, 36438.7528691958, 54537.51512176595, 26857.05520607042, 21533.889837667426, 26857.05520607042, 46020.45053232118, 33457.780262890126, 33244.85364815401, 63054.57971121075, 14081.458321903247, 48149.71667968237, 54537.51512176595, 47085.083606001775, 26857.05520607042, 35374.1197955152, 54537.51512176595]\n"
     ]
    }
   ],
   "source": [
    "listPredicted = []\n",
    "for i in range(len(xArea)):\n",
    "    yAllPredict = m*xArea[i] + b\n",
    "    # print(yAllPredict)\n",
    "    listPredicted.append(float(yAllPredict))\n",
    "    \n",
    "print(listPredicted)"
   ]
  },
  {
   "cell_type": "code",
   "execution_count": 31,
   "id": "9e6f2ead",
   "metadata": {},
   "outputs": [
    {
     "data": {
      "image/png": "[encoded data removed]",
      "text/plain": [
       "<Figure size 640x480 with 1 Axes>"
      ]
     },
     "metadata": {},
     "output_type": "display_data"
    }
   ],
   "source": [
    "plt.scatter(xArea, listPredicted, color='red', marker='*')\n",
    "rentPlot()"
   ]
  }
 ],
 "metadata": {
  "kernelspec": {
   "display_name": "base",
   "language": "python",
   "name": "python3"
  },
  "language_info": {
   "codemirror_mode": {
    "name": "ipython",
    "version": 3
   },
   "file_extension": ".py",
   "mimetype": "text/x-python",
   "name": "python",
   "nbconvert_exporter": "python",
   "pygments_lexer": "ipython3",
   "version": "3.13.5"
  }
 },
 "nbformat": 4,
 "nbformat_minor": 5
}
